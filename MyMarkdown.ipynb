{
 "cells": [
  {
   "cell_type": "markdown",
   "id": "e3822983-418c-43ec-a9fe-b860591fb6cf",
   "metadata": {},
   "source": [
    "# My first Makdown\n",
    "## Introduction\n",
    "I'm doing basic Markdown styling.\n",
    "\n",
    "### Key Features:\n",
    "- **Bolding**\n",
    "- *Cursiva because I don't know how it is in English*\n",
    "- We can add images and links\n",
    "\n",
    "### Code:\n",
    "```python\n",
    "print(\"Hello, Jupyter!\")\n"
   ]
  },
  {
   "cell_type": "markdown",
   "id": "15a8c0ac-1ee8-4ce9-b8f1-3827a2f48545",
   "metadata": {},
   "source": [
    "**This is a bold proof of concept**\n",
    "\n",
    "- This is a list\n",
    "- And continue"
   ]
  },
  {
   "cell_type": "markdown",
   "id": "1410f200-452a-467c-b8bd-c98a2a5df0da",
   "metadata": {},
   "source": [
    "*This is a cursiva proof of concept*\n",
    "\n",
    "- This is a list\n",
    "- And continue"
   ]
  },
  {
   "cell_type": "markdown",
   "id": "20563499-ac98-4040-9397-f9528b6738b0",
   "metadata": {},
   "source": [
    "1. First item\n",
    "2. Second item\n",
    "   1. Sub-item 2.1\n",
    "   2. Sub-item 2.2\n"
   ]
  },
  {
   "cell_type": "markdown",
   "id": "ccec0bb2-9808-42b3-b1a9-34ede70b27f6",
   "metadata": {},
   "source": [
    "![MyImage](https://encrypted-tbn0.gstatic.com/images?q=tbn:ANd9GcQabrvPNzwsj-y0-NwOZCCTD7qkHcgEAGIADg&s)"
   ]
  },
  {
   "cell_type": "code",
   "execution_count": 2,
   "id": "74469df6-2fbf-4811-beec-05a5be47cbe4",
   "metadata": {},
   "outputs": [
    {
     "data": {
      "text/plain": [
       "4.0"
      ]
     },
     "execution_count": 2,
     "metadata": {},
     "output_type": "execute_result"
    }
   ],
   "source": [
    "import math\n",
    "math.sqrt(16)  # Square of 16\n"
   ]
  },
  {
   "cell_type": "code",
   "execution_count": 8,
   "id": "b3a8416f-1e55-4f8c-a7c2-4fc2e6554c16",
   "metadata": {},
   "outputs": [
    {
     "name": "stdout",
     "output_type": "stream",
     "text": [
      "Suma: 22\n",
      "Resta: 8\n",
      "Multiplication: 105\n",
      "Division: 2.142857142857143\n"
     ]
    }
   ],
   "source": [
    "a = 15\n",
    "b = 7\n",
    "\n",
    "suma = a + b      \n",
    "rest = a - b     \n",
    "multiplication = a * b  \n",
    "division = a / b   \n",
    "\n",
    "print(\"Suma:\", suma)\n",
    "print(\"Resta:\", rest)\n",
    "print(\"Multiplication:\", multiplication)\n",
    "print(\"Division:\", division)\n"
   ]
  },
  {
   "cell_type": "code",
   "execution_count": 9,
   "id": "ffa321e8-1f7b-4e3a-8760-84f584ac2b49",
   "metadata": {},
   "outputs": [
    {
     "name": "stdout",
     "output_type": "stream",
     "text": [
      "Log de 10: 2.302585092994046\n",
      "Log base 10 of 100: 2.0\n"
     ]
    }
   ],
   "source": [
    "log_natural = math.log(10)  # ln(10)\n",
    "log_base10 = math.log10(100)  # log10(100)\n",
    "\n",
    "print(\"Log de 10:\", log_natural)\n",
    "print(\"Log base 10 of 100:\", log_base10)\n"
   ]
  },
  {
   "cell_type": "code",
   "execution_count": 10,
   "id": "5c0a5070-48f5-4aae-b348-baf3646fa186",
   "metadata": {},
   "outputs": [
    {
     "name": "stdout",
     "output_type": "stream",
     "text": [
      "Value π: 3.141592653589793\n",
      "Value e: 2.718281828459045\n"
     ]
    }
   ],
   "source": [
    "print(\"Value π:\", math.pi)\n",
    "print(\"Value e:\", math.e)"
   ]
  }
 ],
 "metadata": {
  "kernelspec": {
   "display_name": "Python 3 (ipykernel)",
   "language": "python",
   "name": "python3"
  },
  "language_info": {
   "codemirror_mode": {
    "name": "ipython",
    "version": 3
   },
   "file_extension": ".py",
   "mimetype": "text/x-python",
   "name": "python",
   "nbconvert_exporter": "python",
   "pygments_lexer": "ipython3",
   "version": "3.12.7"
  }
 },
 "nbformat": 4,
 "nbformat_minor": 5
}
