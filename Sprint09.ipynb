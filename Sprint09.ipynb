{
 "cells": [
  {
   "cell_type": "markdown",
   "id": "3aea17c7-94c9-4eb1-a2b2-77f1e8dd728f",
   "metadata": {},
   "source": [
    "# Sprint 9"
   ]
  },
  {
   "cell_type": "code",
   "execution_count": null,
   "id": "8eaeec62-6226-435d-aec0-c03ce5ad2aaa",
   "metadata": {},
   "outputs": [],
   "source": [
    "# Librerías\n",
    "import streamlit as st\n",
    "import pandas as pd\n",
    "import joblib\n",
    "import numpy as np\n",
    "\n",
    "# Cargar el modelo entrenado\n",
    "model = joblib.load('modelo_entrenado.pkl')\n",
    "\n",
    "# Crear la interfaz de usuario con streamlit\n",
    "st.title(\"Predicción de Datos Bancarios\")\n",
    "\n",
    "# Pide los datos al usuario\n",
    "st.write(\"Introduce los datos:\")\n",
    "\n",
    "# Campos de entrada \n",
    "age = st.number_input(\"AGE (number): \", min_value=18, max_value=100.0, step=0.1)\n",
    "housing = st.number_input(\"HOUSE (y/n): \", min_value=0.0, max_value=100.0, step=0.1)\n",
    "month = st.number_input(\"MONTH (number 1-12): \", min_value=0.0, max_value=12, step=0.1)\n",
    "\n",
    "\n",
    "# Predecir cuando el usuario hace clic\n",
    "if st.button('Hacer predicción'):\n",
    "    input_data = np.array([[age, housing, month]])  # Ajusta según las columnas que estés usando\n",
    "    prediction = model.predict(input_data)\n",
    "\n",
    "    if prediction == 1:\n",
    "        st.success(\"El resultado es: Clase 1\")\n",
    "    else:\n",
    "        st.success(\"El resultado es: Clase 0\")\n"
   ]
  },
  {
   "cell_type": "markdown",
   "id": "89945202-fb7f-4b1d-8737-5e919e9722b5",
   "metadata": {},
   "source": [
    "Para ejecutarlo, podemos escribir por consola:\n",
    "streamlit run app.py\n",
    "O bien podemos desplegarlo en la página web:\n",
    "Conecta la cuenta de GitHub y selecciona el repositorio."
   ]
  }
 ],
 "metadata": {
  "kernelspec": {
   "display_name": "Python 3 (ipykernel)",
   "language": "python",
   "name": "python3"
  },
  "language_info": {
   "codemirror_mode": {
    "name": "ipython",
    "version": 3
   },
   "file_extension": ".py",
   "mimetype": "text/x-python",
   "name": "python",
   "nbconvert_exporter": "python",
   "pygments_lexer": "ipython3",
   "version": "3.12.8"
  }
 },
 "nbformat": 4,
 "nbformat_minor": 5
}
